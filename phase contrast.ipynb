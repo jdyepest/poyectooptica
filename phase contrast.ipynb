{
 "cells": [
  {
   "cell_type": "code",
   "execution_count": 1,
   "id": "6d69ab17-d9d2-4505-b605-dafc3dd42501",
   "metadata": {},
   "outputs": [],
   "source": [
    "import numpy as np\n",
    "import matplotlib.pyplot as plt\n",
    "import cv2 as cv"
   ]
  },
  {
   "cell_type": "code",
   "execution_count": 2,
   "id": "3374878f-419f-4e6e-94d2-1125d3dd3add",
   "metadata": {},
   "outputs": [],
   "source": [
    "img_inv= np.loadtxt(\"a.txt\",delimiter=',',dtype='complex')"
   ]
  },
  {
   "cell_type": "code",
   "execution_count": 3,
   "id": "8fd07bda-f42a-4be0-84e8-79195737bc1c",
   "metadata": {},
   "outputs": [],
   "source": [
    "um=1e-6\n",
    "mm=1e-3\n",
    "nm=1e-9\n"
   ]
  },
  {
   "cell_type": "code",
   "execution_count": 31,
   "id": "41843771-6098-4169-a1d7-e89e23adbad4",
   "metadata": {},
   "outputs": [
    {
     "data": {
      "text/plain": [
       "3.125e-07"
      ]
     },
     "execution_count": 31,
     "metadata": {},
     "output_type": "execute_result"
    }
   ],
   "source": [
    "resabbe=500*nm/(2*0.8)\n",
    "resabbe"
   ]
  },
  {
   "cell_type": "code",
   "execution_count": 5,
   "id": "4e052151-c50e-4ae7-8829-dff01e39c7a9",
   "metadata": {},
   "outputs": [],
   "source": [
    "X,Y=np.shape(img_inv)"
   ]
  },
  {
   "cell_type": "code",
   "execution_count": 6,
   "id": "a528a345-8363-411a-b2d3-421a6285b7e7",
   "metadata": {},
   "outputs": [],
   "source": [
    "w_length=500*nm"
   ]
  },
  {
   "cell_type": "code",
   "execution_count": 7,
   "id": "6f7a29a9-a6ad-4ade-bb99-f5fed7445502",
   "metadata": {},
   "outputs": [],
   "source": [
    "k=2*np.pi/w_length"
   ]
  },
  {
   "cell_type": "code",
   "execution_count": 8,
   "id": "5d4ff66b-a390-44cb-afb8-8ff9ff4a00f7",
   "metadata": {},
   "outputs": [],
   "source": [
    "def ondaplana(A,m,n,k,z,zangle,xangle,yangle,deltax,deltay):\n",
    "    centerx=int(m/2)\n",
    "    centery=int(n/2)\n",
    "    \n",
    "    x=np.arange(-centerx,centerx)\n",
    "    y=np.arange(-centery,centery)\n",
    "    \n",
    "    X1, Y1= np.meshgrid(x,y)\n",
    "    \n",
    "    X1=X1*deltax\n",
    "    Y1=Y1*deltay\n",
    "    \n",
    "    wave= A*np.exp(1j*k*(X1*xangle+Y1*yangle+z*zangle))\n",
    "                   \n",
    "                   \n",
    "    return wave\n",
    "    #iluminacion de la muestra\n",
    "    \n",
    "    \n",
    "    \n",
    "    \n",
    "    \n"
   ]
  },
  {
   "cell_type": "code",
   "execution_count": 9,
   "id": "004feead-2767-4bee-ba27-045050bc9170",
   "metadata": {},
   "outputs": [],
   "source": [
    "ilum=ondaplana(5,720,720,k,5*um,1,0,0,resabbe,resabbe)"
   ]
  },
  {
   "cell_type": "code",
   "execution_count": 10,
   "id": "423fb096-e747-4776-9ea0-2683c2053554",
   "metadata": {},
   "outputs": [],
   "source": [
    "ilums=ilum\n",
    "ilumd=ilum*img_inv\n",
    "#division de la iluminacion en dos partes interactuante y no interactuante"
   ]
  },
  {
   "cell_type": "code",
   "execution_count": 11,
   "id": "89e61e6e-990d-46c5-b8bb-2c8fc9cfe2a1",
   "metadata": {},
   "outputs": [],
   "source": [
    " Trasn_ilums=np.fft.fftshift(np.fft.fft2(ilums)) \n",
    "#transformadas de fresnel por la lente"
   ]
  },
  {
   "cell_type": "code",
   "execution_count": 12,
   "id": "ffa18530-085c-44ae-97c7-5363d09cbc8c",
   "metadata": {},
   "outputs": [],
   "source": [
    " Trans_ilumd=np.fft.fftshift(np.fft.fft2(ilumd)) "
   ]
  },
  {
   "cell_type": "code",
   "execution_count": 36,
   "id": "dc91b931-df8a-4978-a0a6-3a2db77f9f69",
   "metadata": {},
   "outputs": [
    {
     "data": {
      "text/plain": [
       "312.5"
      ]
     },
     "execution_count": 36,
     "metadata": {},
     "output_type": "execute_result"
    }
   ],
   "source": [
    "\n",
    "tpixel=resabbe/(2*mm*500*nm)\n",
    "#tpixel=1/(tpixel*720)\n",
    "tpixel\n"
   ]
  },
  {
   "cell_type": "code",
   "execution_count": 14,
   "id": "f8e308a9-49f6-46c2-8d67-37e7f0eb70cb",
   "metadata": {},
   "outputs": [
    {
     "data": {
      "text/plain": [
       "7.142857142857146e-06"
      ]
     },
     "execution_count": 14,
     "metadata": {},
     "output_type": "execute_result"
    }
   ],
   "source": [
    "tpixel2=tpixel/(200*mm*500*nm)\n",
    "tpixel2=1/(tpixel2*720)\n",
    "tpixel2\n",
    "\n"
   ]
  },
  {
   "cell_type": "code",
   "execution_count": 15,
   "id": "bd81b2cb-9237-489f-b2c0-85eabf868d9d",
   "metadata": {},
   "outputs": [
    {
     "data": {
      "text/plain": [
       "71.42857142857144"
      ]
     },
     "execution_count": 15,
     "metadata": {},
     "output_type": "execute_result"
    }
   ],
   "source": [
    "tpixel1=resabbe/(20*mm*500*nm)\n",
    "tpixel1"
   ]
  },
  {
   "cell_type": "code",
   "execution_count": null,
   "id": "75dcaf7f-6290-4a4c-92fa-dcc830ddc598",
   "metadata": {},
   "outputs": [],
   "source": []
  },
  {
   "cell_type": "code",
   "execution_count": 16,
   "id": "3103f835-b5f5-42db-8630-5fccee58f3aa",
   "metadata": {},
   "outputs": [
    {
     "data": {
      "text/plain": [
       "282.85714285714295"
      ]
     },
     "execution_count": 16,
     "metadata": {},
     "output_type": "execute_result"
    }
   ],
   "source": [
    "r1=5.5*mm/tpixel#simensiones del anillo\n",
    "r1"
   ]
  },
  {
   "cell_type": "code",
   "execution_count": 17,
   "id": "b36e7915-d214-4b9b-97c0-403c30e72a33",
   "metadata": {},
   "outputs": [
    {
     "data": {
      "text/plain": [
       "7.142857142857144e-07"
      ]
     },
     "execution_count": 17,
     "metadata": {},
     "output_type": "execute_result"
    }
   ],
   "source": [
    "resabbe=500*nm/(2*0.35)\n",
    "resabbe"
   ]
  },
  {
   "cell_type": "code",
   "execution_count": 18,
   "id": "d7b0d61d-b060-4682-a248-0c901a932c39",
   "metadata": {},
   "outputs": [
    {
     "data": {
      "text/plain": [
       "334.2857142857144"
      ]
     },
     "execution_count": 18,
     "metadata": {},
     "output_type": "execute_result"
    }
   ],
   "source": [
    "r2=6.5*mm/(tpixel)\n",
    "r2"
   ]
  },
  {
   "cell_type": "code",
   "execution_count": 19,
   "id": "d5684b8c-f55d-4935-9285-912277c7e8cc",
   "metadata": {},
   "outputs": [],
   "source": [
    "def mask_concentric(n,m,r2,r1,aten): #definicion mascara del anillo de fase para la parte interactuante\n",
    "    mascara=np.zeros((n,m))\n",
    "    cv.circle(mascara,(int(n/2), int(m/2)),int(r2),1,-1)\n",
    "    cv.circle(mascara,(int(n/2), int(m/2)),int(r1),0,-1)\n",
    "    \n",
    "    mascara2=np.ones((n,m))\n",
    "    mascara2=mascara2*-1j*aten\n",
    "    \n",
    "    mascara=mascara*mascara2\n",
    "    \n",
    "    mascara3=np.zeros((n,m))\n",
    "    cv.circle(mascara3,(int(n/2), int(m/2)),int(r1),1,-1)\n",
    "    \n",
    "    mascara=mascara+mascara3\n",
    "    \n",
    "    mascara4=np.zeros((n,m))\n",
    "    cv.circle(mascara4,(int(n/2), int(m/2)),int(r2*1000),1,-1)\n",
    "    cv.circle(mascara4,(int(n/2), int(m/2)),int(r2),0,-1)\n",
    "    \n",
    "    mascara=mascara+mascara4\n",
    "    \n",
    "    \n",
    "    return mascara"
   ]
  },
  {
   "cell_type": "code",
   "execution_count": 20,
   "id": "e76f898c-0f54-412c-a2e5-5657774fd3a2",
   "metadata": {},
   "outputs": [],
   "source": [
    "%matplotlib qt"
   ]
  },
  {
   "cell_type": "code",
   "execution_count": 21,
   "id": "104dd722-5522-4c15-aec7-a0c40ae58d36",
   "metadata": {},
   "outputs": [],
   "source": [
    "T_D=mask_concentric(720,720,r2,r1,0.3)\n",
    "plt.figure()\n",
    "plt.imshow(np.abs(T_D)**2)\n",
    "plt.colorbar()\n",
    "plt.show()"
   ]
  },
  {
   "cell_type": "code",
   "execution_count": 22,
   "id": "aeff748a-9167-4dda-a659-d31fca3a2def",
   "metadata": {},
   "outputs": [],
   "source": [
    "T_s=np.ones((720,720))*0.3*-1j\n",
    "#mascara para la parte no interectuante"
   ]
  },
  {
   "cell_type": "code",
   "execution_count": 23,
   "id": "fe0b5385-35e0-4b77-8a4d-2c697eff9988",
   "metadata": {},
   "outputs": [],
   "source": [
    "TFD=T_D*Trans_ilumd"
   ]
  },
  {
   "cell_type": "code",
   "execution_count": 24,
   "id": "83e419e5-e1f3-4849-ab5d-4084d301a98a",
   "metadata": {},
   "outputs": [
    {
     "data": {
      "text/plain": [
       "array([[ -8.83275277-30.17769631j,   2.3403401  +8.94319189j,\n",
       "        -12.23195776+15.69588415j, ...,   6.92775398+28.90065094j,\n",
       "         -4.76482091 -2.5737073j ,  31.97601999+31.03049826j],\n",
       "       [-31.1958471 +16.84119727j,   8.34453115-13.44849544j,\n",
       "         -1.32260585+10.05792494j, ..., -13.3553847 +22.34707978j,\n",
       "        -19.24848226 -1.23905829j,   6.20495346 +7.3232952j ],\n",
       "       [-25.22448121 -8.38141462j,  16.28747143 +1.05102397j,\n",
       "         26.30200494 +7.44163194j, ...,  -3.37732926+11.95059893j,\n",
       "          7.16378022 -6.51172559j,  10.4062226 -14.96606626j],\n",
       "       ...,\n",
       "       [ -3.06297332 -0.92756082j,  24.38861301-10.45435732j,\n",
       "         19.46978651 +7.36834583j, ...,  -1.76572814+20.93546791j,\n",
       "         32.12982549 +4.02521853j,  27.94873266 +1.20706409j],\n",
       "       [  0.67403313 +3.85007698j,   3.10913916-18.75139746j,\n",
       "        -13.28497962 +0.50394618j, ..., -14.07200896-16.75970897j,\n",
       "          1.30168711 +6.37943036j, -20.78833175+25.8447284j ],\n",
       "       [ -0.97247217 -0.23584412j,   5.03271018+17.47239047j,\n",
       "          6.1345306  +9.36034816j, ..., -10.6779769  +7.57172654j,\n",
       "         21.29183316-37.61363363j, -19.30949349 -1.64885707j]])"
      ]
     },
     "execution_count": 24,
     "metadata": {},
     "output_type": "execute_result"
    }
   ],
   "source": [
    "Trans_ilumd"
   ]
  },
  {
   "cell_type": "code",
   "execution_count": 25,
   "id": "ca3af480-94bb-4218-a537-8c3171223e21",
   "metadata": {},
   "outputs": [],
   "source": [
    "TFS=T_s*Trasn_ilums"
   ]
  },
  {
   "cell_type": "code",
   "execution_count": 26,
   "id": "409ee11c-d237-4111-bf95-92c310f3ce13",
   "metadata": {},
   "outputs": [],
   "source": [
    "ES=np.fft.ifft2(TFS)\n",
    "ED=np.fft.ifft2(TFD)\n",
    "\n",
    "#trnaformadas inveresa y multiplicacion"
   ]
  },
  {
   "cell_type": "code",
   "execution_count": 27,
   "id": "1c5dbac7-71e9-4607-8826-aa9745113445",
   "metadata": {},
   "outputs": [],
   "source": [
    "ET=ES+ED\n",
    "#interferencia"
   ]
  },
  {
   "cell_type": "code",
   "execution_count": 28,
   "id": "fc0ef0e8-62de-4c3e-a897-3f41aa6f93eb",
   "metadata": {},
   "outputs": [],
   "source": [
    "plt.figure()\n",
    "plt.imshow(np.abs(ET)**2)\n",
    "plt.colorbar()\n",
    "plt.show()"
   ]
  },
  {
   "cell_type": "code",
   "execution_count": 29,
   "id": "0b4eeae7-cb18-4b4d-804c-95c75ab56a02",
   "metadata": {},
   "outputs": [],
   "source": [
    "plt.figure()\n",
    "plt.imshow(np.abs(img_inv)**2)\n",
    "plt.colorbar()\n",
    "plt.show()"
   ]
  },
  {
   "cell_type": "code",
   "execution_count": 30,
   "id": "d93b07f2-ca84-4753-90a5-3b46fb82230c",
   "metadata": {},
   "outputs": [],
   "source": [
    "plt.figure()\n",
    "plt.imshow(np.angle(img_inv))\n",
    "plt.colorbar()\n",
    "plt.show()"
   ]
  },
  {
   "cell_type": "code",
   "execution_count": null,
   "id": "242252ee-d7dc-4a6a-9610-d9dcc1edbeba",
   "metadata": {},
   "outputs": [],
   "source": []
  }
 ],
 "metadata": {
  "kernelspec": {
   "display_name": "Python 3 (ipykernel)",
   "language": "python",
   "name": "python3"
  },
  "language_info": {
   "codemirror_mode": {
    "name": "ipython",
    "version": 3
   },
   "file_extension": ".py",
   "mimetype": "text/x-python",
   "name": "python",
   "nbconvert_exporter": "python",
   "pygments_lexer": "ipython3",
   "version": "3.10.2"
  }
 },
 "nbformat": 4,
 "nbformat_minor": 5
}
