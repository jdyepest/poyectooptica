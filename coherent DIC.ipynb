{
 "cells": [
  {
   "cell_type": "code",
   "execution_count": 1,
   "id": "c24fc9df-a6a2-401e-9d16-fe2a67f50461",
   "metadata": {},
   "outputs": [],
   "source": [
    "import numpy as np\n",
    "import matplotlib.pyplot as plt\n",
    "import cv2 as cv"
   ]
  },
  {
   "cell_type": "code",
   "execution_count": 2,
   "id": "4edde460-9f05-4234-aac2-81af6727f164",
   "metadata": {},
   "outputs": [
    {
     "data": {
      "image/png": "[encoded data removed]",
      "text/plain": [
       "<Figure size 432x288 with 2 Axes>"
      ]
     },
     "metadata": {
      "needs_background": "light"
     },
     "output_type": "display_data"
    }
   ],
   "source": [
    "img_inv= np.loadtxt(\"a.txt\",delimiter=',',dtype='complex')\n",
    "img_inv=np.pad(img_inv,(360,360),'constant', constant_values=(0, 0))\n",
    "\n",
    "plt.figure()\n",
    "plt.imshow(np.abs(img_inv)**2)\n",
    "plt.colorbar()\n",
    "plt.show()"
   ]
  },
  {
   "cell_type": "code",
   "execution_count": 3,
   "id": "1235516b-0de8-4626-998f-8fea36928843",
   "metadata": {},
   "outputs": [
    {
     "data": {
      "text/plain": [
       "(1440, 1440)"
      ]
     },
     "execution_count": 3,
     "metadata": {},
     "output_type": "execute_result"
    }
   ],
   "source": [
    "np.shape(img_inv)"
   ]
  },
  {
   "cell_type": "code",
   "execution_count": 4,
   "id": "7a2132ed-3a9a-49ee-aef2-229c76120690",
   "metadata": {},
   "outputs": [],
   "source": [
    "um=1e-6\n",
    "mm=1e-3\n",
    "nm=1e-9\n"
   ]
  },
  {
   "cell_type": "code",
   "execution_count": 5,
   "id": "5e0fee48-2fa8-4adb-b3d3-bf404a220ee9",
   "metadata": {},
   "outputs": [
    {
     "data": {
      "text/plain": [
       "3.125e-07"
      ]
     },
     "execution_count": 5,
     "metadata": {},
     "output_type": "execute_result"
    }
   ],
   "source": [
    "bias=0\n",
    "NAob=0.8\n",
    "wave=500*nm\n",
    "m0=2*NAob/wave\n",
    "shear=1/(m0)\n",
    "shear"
   ]
  },
  {
   "cell_type": "code",
   "execution_count": 6,
   "id": "8945874e-6b13-48e6-aa70-13bb873bbe97",
   "metadata": {},
   "outputs": [
    {
     "data": {
      "text/plain": [
       "0.001388888888888889"
      ]
     },
     "execution_count": 6,
     "metadata": {},
     "output_type": "execute_result"
    }
   ],
   "source": [
    "1/(720)\n"
   ]
  },
  {
   "cell_type": "code",
   "execution_count": 7,
   "id": "9164b3e2-0c8c-498e-a5b4-4fa37515b64c",
   "metadata": {},
   "outputs": [
    {
     "data": {
      "text/plain": [
       "4444.444444444444"
      ]
     },
     "execution_count": 7,
     "metadata": {},
     "output_type": "execute_result"
    }
   ],
   "source": [
    "deltafx=1/(720*(1/m0))\n",
    "deltafy=deltafx\n",
    "deltafx\n",
    "#deltafx=50000\n",
    "#deltafy=deltafx"
   ]
  },
  {
   "cell_type": "code",
   "execution_count": 8,
   "id": "c130b4b3-e197-47b3-872c-94f6641aa72f",
   "metadata": {},
   "outputs": [],
   "source": [
    "r=m0/(deltafx)\n"
   ]
  },
  {
   "cell_type": "code",
   "execution_count": null,
   "id": "a094a661-c111-4dd7-af21-2c8307fdf114",
   "metadata": {},
   "outputs": [],
   "source": []
  },
  {
   "cell_type": "code",
   "execution_count": 9,
   "id": "08f77d36-19fd-4139-863e-824254c4e7f4",
   "metadata": {},
   "outputs": [],
   "source": [
    " T=np.fft.fftshift(np.fft.fft2(img_inv )) "
   ]
  },
  {
   "cell_type": "code",
   "execution_count": 10,
   "id": "2b4e6350-71ea-4727-a49e-9ca3e884bacb",
   "metadata": {},
   "outputs": [],
   "source": [
    "%matplotlib qt"
   ]
  },
  {
   "cell_type": "code",
   "execution_count": 11,
   "id": "90bf2ebf-b764-4173-a6b2-4850fece9ea3",
   "metadata": {},
   "outputs": [],
   "source": [
    "def Tfunsin(deltafx,deltafy,m,n,shear,bias):\n",
    "    centerx=int(m/2)\n",
    "    centery=int(n/2)\n",
    "    \n",
    "    x=np.arange(-centerx,centerx)\n",
    "    y=np.arange(-centery,centery)\n",
    "    \n",
    "    X1, Y1= np.meshgrid(x,y)\n",
    "    \n",
    "    X1=X1*deltafx\n",
    "    Y1=Y1*deltafy\n",
    "    \n",
    "    tsin=-1j*np.sin(2*np.pi*shear*X1-bias)\n",
    "    return tsin"
   ]
  },
  {
   "cell_type": "code",
   "execution_count": null,
   "id": "81a6ec18-5d81-4b6d-b0c9-ff710479f997",
   "metadata": {},
   "outputs": [],
   "source": []
  },
  {
   "cell_type": "code",
   "execution_count": null,
   "id": "29ad0cb3-bd99-43b0-bbfa-51ab8428a0b0",
   "metadata": {},
   "outputs": [],
   "source": [
    "\n"
   ]
  },
  {
   "cell_type": "code",
   "execution_count": 12,
   "id": "5475394c-ba9f-49a8-ac9c-b72c395fbd38",
   "metadata": {},
   "outputs": [],
   "source": [
    "trans=Tfunsin(deltafy,deltafx,1440,1440,shear,bias)\n",
    "plt.figure()\n",
    "plt.imshow(np.abs(trans))\n",
    "plt.colorbar()\n",
    "plt.show()"
   ]
  },
  {
   "cell_type": "code",
   "execution_count": 13,
   "id": "522ab370-e2be-4cac-94c8-e5832504bd87",
   "metadata": {},
   "outputs": [
    {
     "data": {
      "text/plain": [
       "(1440, 1440)"
      ]
     },
     "execution_count": 13,
     "metadata": {},
     "output_type": "execute_result"
    }
   ],
   "source": [
    "np.shape(trans)"
   ]
  },
  {
   "cell_type": "code",
   "execution_count": 14,
   "id": "93db4f6a-8d3c-485a-85c4-399ccf4dd182",
   "metadata": {},
   "outputs": [],
   "source": [
    "def pupile(n,m,r):\n",
    "    mascara=np.zeros((n,m))\n",
    "    cv.circle(mascara,(int(n/2), int(m/2)),int(r),1,-1)\n",
    "    return mascara"
   ]
  },
  {
   "cell_type": "code",
   "execution_count": 15,
   "id": "b0f72df9-62bf-4b9e-98d4-e76699a956e2",
   "metadata": {},
   "outputs": [],
   "source": [
    "pupile1=pupile(1440,1440,r)\n",
    "plt.figure()\n",
    "plt.imshow(np.abs(pupile1)**2)\n",
    "plt.colorbar()\n",
    "plt.show()"
   ]
  },
  {
   "cell_type": "code",
   "execution_count": 16,
   "id": "518c8d3e-406a-4fc0-a9fc-5482452c06eb",
   "metadata": {},
   "outputs": [],
   "source": [
    "espectro=T*trans*pupile1"
   ]
  },
  {
   "cell_type": "code",
   "execution_count": null,
   "id": "9392992d-18fe-495c-b0a1-c6f79d1e7647",
   "metadata": {},
   "outputs": [],
   "source": []
  },
  {
   "cell_type": "code",
   "execution_count": 17,
   "id": "4b839dc8-2a2b-4ec2-b754-f14fe059a051",
   "metadata": {},
   "outputs": [],
   "source": [
    "img=np.fft.ifft2(espectro)"
   ]
  },
  {
   "cell_type": "code",
   "execution_count": 18,
   "id": "b8493e36-ae2b-41e4-998d-387254056a3d",
   "metadata": {},
   "outputs": [],
   "source": [
    "plt.figure()\n",
    "plt.imshow(np.abs(img)**2)\n",
    "plt.colorbar()\n",
    "plt.show()"
   ]
  },
  {
   "cell_type": "code",
   "execution_count": 19,
   "id": "2635eb2e-c025-4142-8861-84bd9e81510a",
   "metadata": {},
   "outputs": [],
   "source": [
    "pupilecond=pupile(1440,1440,360)"
   ]
  },
  {
   "cell_type": "code",
   "execution_count": 20,
   "id": "0f6db716-83f8-4dba-987f-1826e8790c28",
   "metadata": {},
   "outputs": [],
   "source": [
    "pupile2=np.fft.fftshift(np.fft.fft2(pupile1))\n",
    "pupile2c=np.fft.fftshift(np.conjugate(np.fft.fft2(pupile1)))\n"
   ]
  },
  {
   "cell_type": "code",
   "execution_count": 21,
   "id": "adeffba7-e7b6-48b9-99c9-c8cb37c0503d",
   "metadata": {},
   "outputs": [],
   "source": [
    "pupile3=pupile(1440,1440,500)\n",
    "pupile3=np.fft.fftshift(np.fft.fft2(pupile3))\n",
    "pupile3c=np.fft.fftshift(np.conjugate(np.fft.fft2(pupile3)))\n",
    "pupile4=(pupile3*pupile2)*(pupile3c*pupile2c)#*np.conj(pupile3*pupile2)\n",
    "                       "
   ]
  },
  {
   "cell_type": "code",
   "execution_count": 22,
   "id": "0a7c470d-d42e-4a86-85be-9a31c2246239",
   "metadata": {},
   "outputs": [],
   "source": [
    "pupile40=(pupile2**2)*(pupile3**2)"
   ]
  },
  {
   "cell_type": "code",
   "execution_count": 23,
   "id": "d3479af9-2e25-4631-b5a8-d5a889b13c53",
   "metadata": {},
   "outputs": [],
   "source": [
    "espectro2=T*trans*pupile4"
   ]
  },
  {
   "cell_type": "code",
   "execution_count": 24,
   "id": "4b06c4c7-d369-43db-94c4-83e12bb3302c",
   "metadata": {},
   "outputs": [],
   "source": [
    "img2=np.fft.ifft2(espectro2)\n",
    "plt.figure()\n",
    "plt.imshow(np.abs(img)**2)\n",
    "plt.colorbar()\n",
    "plt.show()"
   ]
  },
  {
   "cell_type": "code",
   "execution_count": null,
   "id": "72865f67-e496-47d2-b9f3-73cf1f16d3d3",
   "metadata": {},
   "outputs": [],
   "source": []
  }
 ],
 "metadata": {
  "kernelspec": {
   "display_name": "Python 3 (ipykernel)",
   "language": "python",
   "name": "python3"
  },
  "language_info": {
   "codemirror_mode": {
    "name": "ipython",
    "version": 3
   },
   "file_extension": ".py",
   "mimetype": "text/x-python",
   "name": "python",
   "nbconvert_exporter": "python",
   "pygments_lexer": "ipython3",
   "version": "3.10.2"
  }
 },
 "nbformat": 4,
 "nbformat_minor": 5
}
